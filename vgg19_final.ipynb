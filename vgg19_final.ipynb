{
  "nbformat": 4,
  "nbformat_minor": 0,
  "metadata": {
    "colab": {
      "name": "vgg19 final.ipynb",
      "provenance": []
    },
    "kernelspec": {
      "name": "python3",
      "display_name": "Python 3"
    },
    "language_info": {
      "name": "python"
    }
  },
  "cells": [
    {
      "cell_type": "code",
      "execution_count": null,
      "metadata": {
        "colab": {
          "base_uri": "https://localhost:8080/"
        },
        "id": "cSkB_Ah4YR1u",
        "outputId": "133d1642-025b-418e-a0bb-8d97421609d7"
      },
      "outputs": [
        {
          "output_type": "stream",
          "name": "stdout",
          "text": [
            "Mounted at /content/drive\n"
          ]
        }
      ],
      "source": [
        "from google.colab import drive\n",
        "drive.mount('/content/drive')"
      ]
    },
    {
      "cell_type": "code",
      "source": [
        "import os\n",
        "import shutil\n",
        "\n",
        "os.listdir(\"/content/drive/MyDrive/dataset/train\")"
      ],
      "metadata": {
        "colab": {
          "base_uri": "https://localhost:8080/"
        },
        "id": "twajzgesYpTV",
        "outputId": "4217eeba-04eb-458f-9b06-b8ed57df4fef"
      },
      "execution_count": null,
      "outputs": [
        {
          "output_type": "execute_result",
          "data": {
            "text/plain": [
              "['1', '0']"
            ]
          },
          "metadata": {},
          "execution_count": 2
        }
      ]
    },
    {
      "cell_type": "code",
      "source": [
        "os.listdir(\"/content/drive/MyDrive/dataset/v\")"
      ],
      "metadata": {
        "colab": {
          "base_uri": "https://localhost:8080/"
        },
        "id": "29NRwcjmYra6",
        "outputId": "2ec8ce19-f02c-4563-d3fa-7054748723d0"
      },
      "execution_count": null,
      "outputs": [
        {
          "output_type": "execute_result",
          "data": {
            "text/plain": [
              "['1', '0']"
            ]
          },
          "metadata": {},
          "execution_count": 3
        }
      ]
    },
    {
      "cell_type": "code",
      "source": [
        "import os\n",
        "import cv2\n",
        "import matplotlib.pyplot as plt\n",
        "from PIL import Image\n",
        "import tensorflow as tf\n",
        "from keras import backend as K\n",
        "from keras.models import load_model\n",
        "from keras.preprocessing.image import img_to_array\n",
        "from tensorflow.keras.optimizers import Adam, RMSprop\n",
        "from tensorflow.keras.callbacks import ReduceLROnPlateau\n",
        "from tensorflow.keras.preprocessing.image import ImageDataGenerator"
      ],
      "metadata": {
        "id": "SwMu98WDYur3"
      },
      "execution_count": null,
      "outputs": []
    },
    {
      "cell_type": "code",
      "source": [
        "IMG_SHAPE  = 224\n",
        "batch_size = 32"
      ],
      "metadata": {
        "id": "J0Jgt9q6Ywky"
      },
      "execution_count": null,
      "outputs": []
    },
    {
      "cell_type": "code",
      "source": [
        "from tensorflow import keras\n",
        "\n",
        "base_model = keras.applications.VGG19(\n",
        "    weights='imagenet',  # Load weights pre-trained on ImageNet.\n",
        "    input_shape=(224, 224, 3),\n",
        "    include_top=False)\n",
        "\n",
        "base_model.summary()\n",
        "\n",
        "base_model.trainable = False\n",
        "\n",
        "inputs = keras.Input(shape=(224, 224, 3))\n",
        "# Separately from setting trainable on the model, we set training to False \n",
        "x = base_model(inputs, training=False)\n",
        "x = keras.layers.GlobalAveragePooling2D()(x)\n",
        "# A Dense classifier with a single unit (binary classification)\n",
        "outputs = keras.layers.Dense(1)(x)\n",
        "model = keras.Model(inputs, outputs)\n",
        "\n",
        "model.summary()"
      ],
      "metadata": {
        "colab": {
          "base_uri": "https://localhost:8080/"
        },
        "id": "He_juOWiY1v2",
        "outputId": "f857f42b-276f-459a-d46f-c42105fd86e6"
      },
      "execution_count": null,
      "outputs": [
        {
          "output_type": "stream",
          "name": "stdout",
          "text": [
            "Downloading data from https://storage.googleapis.com/tensorflow/keras-applications/vgg19/vgg19_weights_tf_dim_ordering_tf_kernels_notop.h5\n",
            "80142336/80134624 [==============================] - 0s 0us/step\n",
            "80150528/80134624 [==============================] - 0s 0us/step\n",
            "Model: \"vgg19\"\n",
            "_________________________________________________________________\n",
            " Layer (type)                Output Shape              Param #   \n",
            "=================================================================\n",
            " input_1 (InputLayer)        [(None, 224, 224, 3)]     0         \n",
            "                                                                 \n",
            " block1_conv1 (Conv2D)       (None, 224, 224, 64)      1792      \n",
            "                                                                 \n",
            " block1_conv2 (Conv2D)       (None, 224, 224, 64)      36928     \n",
            "                                                                 \n",
            " block1_pool (MaxPooling2D)  (None, 112, 112, 64)      0         \n",
            "                                                                 \n",
            " block2_conv1 (Conv2D)       (None, 112, 112, 128)     73856     \n",
            "                                                                 \n",
            " block2_conv2 (Conv2D)       (None, 112, 112, 128)     147584    \n",
            "                                                                 \n",
            " block2_pool (MaxPooling2D)  (None, 56, 56, 128)       0         \n",
            "                                                                 \n",
            " block3_conv1 (Conv2D)       (None, 56, 56, 256)       295168    \n",
            "                                                                 \n",
            " block3_conv2 (Conv2D)       (None, 56, 56, 256)       590080    \n",
            "                                                                 \n",
            " block3_conv3 (Conv2D)       (None, 56, 56, 256)       590080    \n",
            "                                                                 \n",
            " block3_conv4 (Conv2D)       (None, 56, 56, 256)       590080    \n",
            "                                                                 \n",
            " block3_pool (MaxPooling2D)  (None, 28, 28, 256)       0         \n",
            "                                                                 \n",
            " block4_conv1 (Conv2D)       (None, 28, 28, 512)       1180160   \n",
            "                                                                 \n",
            " block4_conv2 (Conv2D)       (None, 28, 28, 512)       2359808   \n",
            "                                                                 \n",
            " block4_conv3 (Conv2D)       (None, 28, 28, 512)       2359808   \n",
            "                                                                 \n",
            " block4_conv4 (Conv2D)       (None, 28, 28, 512)       2359808   \n",
            "                                                                 \n",
            " block4_pool (MaxPooling2D)  (None, 14, 14, 512)       0         \n",
            "                                                                 \n",
            " block5_conv1 (Conv2D)       (None, 14, 14, 512)       2359808   \n",
            "                                                                 \n",
            " block5_conv2 (Conv2D)       (None, 14, 14, 512)       2359808   \n",
            "                                                                 \n",
            " block5_conv3 (Conv2D)       (None, 14, 14, 512)       2359808   \n",
            "                                                                 \n",
            " block5_conv4 (Conv2D)       (None, 14, 14, 512)       2359808   \n",
            "                                                                 \n",
            " block5_pool (MaxPooling2D)  (None, 7, 7, 512)         0         \n",
            "                                                                 \n",
            "=================================================================\n",
            "Total params: 20,024,384\n",
            "Trainable params: 20,024,384\n",
            "Non-trainable params: 0\n",
            "_________________________________________________________________\n",
            "Model: \"model\"\n",
            "_________________________________________________________________\n",
            " Layer (type)                Output Shape              Param #   \n",
            "=================================================================\n",
            " input_2 (InputLayer)        [(None, 224, 224, 3)]     0         \n",
            "                                                                 \n",
            " vgg19 (Functional)          (None, 7, 7, 512)         20024384  \n",
            "                                                                 \n",
            " global_average_pooling2d (G  (None, 512)              0         \n",
            " lobalAveragePooling2D)                                          \n",
            "                                                                 \n",
            " dense (Dense)               (None, 1)                 513       \n",
            "                                                                 \n",
            "=================================================================\n",
            "Total params: 20,024,897\n",
            "Trainable params: 513\n",
            "Non-trainable params: 20,024,384\n",
            "_________________________________________________________________\n"
          ]
        }
      ]
    },
    {
      "cell_type": "code",
      "source": [
        "# Important to use binary crossentropy and binary accuracy as we now have a binary classification problem\n",
        "model.compile(loss=keras.losses.BinaryCrossentropy(from_logits=True), metrics=[keras.metrics.BinaryAccuracy()])\n",
        "\n",
        "\n",
        "from tensorflow.keras.preprocessing.image import ImageDataGenerator\n",
        "# create a data generator\n",
        "datagen = ImageDataGenerator(\n",
        "        samplewise_center=True,  # set each sample mean to 0\n",
        "        rotation_range=10,  # randomly rotate images in the range (degrees, 0 to 180)\n",
        "        zoom_range = 0.1, # Randomly zoom image \n",
        "        width_shift_range=0.1,  # randomly shift images horizontally (fraction of total width)\n",
        "        height_shift_range=0.1,  # randomly shift images vertically (fraction of total height)\n",
        "        horizontal_flip=True,  # randomly flip images\n",
        "        vertical_flip=False) # we don't expect Bo to be upside-down so we will not flip vertically\n",
        "\n",
        "# load and iterate training dataset\n",
        "train_it = datagen.flow_from_directory('/content/drive/MyDrive/dataset/train', \n",
        "                                       target_size=(224, 224), \n",
        "                                       color_mode='rgb', \n",
        "                                       class_mode='binary', \n",
        "                                       batch_size=8)\n",
        "# load and iterate validation dataset\n",
        "valid_it = datagen.flow_from_directory('/content/drive/MyDrive/dataset/v', \n",
        "                                      target_size=(224, 224), \n",
        "                                      color_mode='rgb', \n",
        "                                      class_mode='binary', \n",
        "                                      batch_size=8)\n",
        "\n",
        "h1= model.fit(train_it, steps_per_epoch=12, validation_data=valid_it, validation_steps=4, workers=10, epochs=20)"
      ],
      "metadata": {
        "colab": {
          "base_uri": "https://localhost:8080/"
        },
        "id": "iKgrAULxY3ht",
        "outputId": "0c1a0af1-4fa6-4e3d-8633-31db5c8f3d36"
      },
      "execution_count": null,
      "outputs": [
        {
          "output_type": "stream",
          "name": "stdout",
          "text": [
            "Found 44 images belonging to 2 classes.\n",
            "Found 80 images belonging to 2 classes.\n",
            "Epoch 1/20\n",
            "12/12 [==============================] - 79s 6s/step - loss: 1.0439 - binary_accuracy: 0.5455 - val_loss: 1.4779 - val_binary_accuracy: 0.3750\n",
            "Epoch 2/20\n",
            "12/12 [==============================] - 72s 6s/step - loss: 0.6777 - binary_accuracy: 0.6364 - val_loss: 1.2915 - val_binary_accuracy: 0.5312\n",
            "Epoch 3/20\n",
            "12/12 [==============================] - 72s 6s/step - loss: 0.5703 - binary_accuracy: 0.7273 - val_loss: 0.8495 - val_binary_accuracy: 0.5938\n",
            "Epoch 4/20\n",
            "12/12 [==============================] - 73s 6s/step - loss: 0.5036 - binary_accuracy: 0.7727 - val_loss: 0.6513 - val_binary_accuracy: 0.6562\n",
            "Epoch 5/20\n",
            "12/12 [==============================] - 72s 6s/step - loss: 0.5029 - binary_accuracy: 0.8068 - val_loss: 1.4212 - val_binary_accuracy: 0.5312\n",
            "Epoch 6/20\n",
            "12/12 [==============================] - 74s 6s/step - loss: 0.4634 - binary_accuracy: 0.8068 - val_loss: 1.2287 - val_binary_accuracy: 0.5312\n",
            "Epoch 7/20\n",
            "12/12 [==============================] - 72s 6s/step - loss: 0.3339 - binary_accuracy: 0.8409 - val_loss: 0.9203 - val_binary_accuracy: 0.5938\n",
            "Epoch 8/20\n",
            "12/12 [==============================] - 73s 6s/step - loss: 0.2594 - binary_accuracy: 0.8977 - val_loss: 0.9684 - val_binary_accuracy: 0.6250\n",
            "Epoch 9/20\n",
            "12/12 [==============================] - 72s 6s/step - loss: 0.4260 - binary_accuracy: 0.8068 - val_loss: 1.3289 - val_binary_accuracy: 0.6250\n",
            "Epoch 10/20\n",
            "12/12 [==============================] - 74s 6s/step - loss: 0.3059 - binary_accuracy: 0.8750 - val_loss: 1.2078 - val_binary_accuracy: 0.6250\n",
            "Epoch 11/20\n",
            "12/12 [==============================] - 73s 6s/step - loss: 0.2925 - binary_accuracy: 0.8523 - val_loss: 0.9008 - val_binary_accuracy: 0.6875\n",
            "Epoch 12/20\n",
            "12/12 [==============================] - 72s 6s/step - loss: 0.2487 - binary_accuracy: 0.8977 - val_loss: 2.1293 - val_binary_accuracy: 0.5000\n",
            "Epoch 13/20\n",
            "12/12 [==============================] - 73s 6s/step - loss: 0.1915 - binary_accuracy: 0.8977 - val_loss: 0.8875 - val_binary_accuracy: 0.7188\n",
            "Epoch 14/20\n",
            "12/12 [==============================] - 74s 6s/step - loss: 0.2042 - binary_accuracy: 0.9205 - val_loss: 0.9985 - val_binary_accuracy: 0.7500\n",
            "Epoch 15/20\n",
            "12/12 [==============================] - 72s 6s/step - loss: 0.2306 - binary_accuracy: 0.9318 - val_loss: 0.7072 - val_binary_accuracy: 0.6562\n",
            "Epoch 16/20\n",
            "12/12 [==============================] - 73s 6s/step - loss: 0.1710 - binary_accuracy: 0.9091 - val_loss: 0.8892 - val_binary_accuracy: 0.7188\n",
            "Epoch 17/20\n",
            "12/12 [==============================] - 73s 6s/step - loss: 0.1439 - binary_accuracy: 0.9545 - val_loss: 0.7844 - val_binary_accuracy: 0.7500\n",
            "Epoch 18/20\n",
            "12/12 [==============================] - 72s 6s/step - loss: 0.0861 - binary_accuracy: 0.9886 - val_loss: 1.2456 - val_binary_accuracy: 0.6250\n",
            "Epoch 19/20\n",
            "12/12 [==============================] - 74s 6s/step - loss: 0.1111 - binary_accuracy: 0.9432 - val_loss: 0.8768 - val_binary_accuracy: 0.6562\n",
            "Epoch 20/20\n",
            "12/12 [==============================] - 72s 6s/step - loss: 0.1517 - binary_accuracy: 0.9432 - val_loss: 0.4708 - val_binary_accuracy: 0.8125\n"
          ]
        }
      ]
    },
    {
      "cell_type": "code",
      "source": [
        "# Unfreeze the base model\n",
        "base_model.trainable = True\n",
        "\n",
        "# It's important to recompile your model after you make any changes\n",
        "# to the `trainable` attribute of any inner layer, so that your changes\n",
        "# are taken into account\n",
        "model.compile(optimizer=keras.optimizers.RMSprop(learning_rate = .000001),  # Very low learning rate\n",
        "              loss=keras.losses.BinaryCrossentropy(from_logits=True),\n",
        "              metrics=[keras.metrics.BinaryAccuracy()])\n",
        "\n",
        "history = model.fit(train_it, steps_per_epoch=12, validation_data=valid_it, validation_steps=4, workers=10, epochs=20)"
      ],
      "metadata": {
        "colab": {
          "base_uri": "https://localhost:8080/"
        },
        "id": "leIxHVV6Y5_d",
        "outputId": "de78d4f9-57dd-4b0e-fe53-d0da0ea4bf10"
      },
      "execution_count": null,
      "outputs": [
        {
          "output_type": "stream",
          "name": "stdout",
          "text": [
            "Epoch 1/20\n",
            "12/12 [==============================] - 216s 18s/step - loss: 0.1256 - binary_accuracy: 0.9545 - val_loss: 0.7544 - val_binary_accuracy: 0.7812\n",
            "Epoch 2/20\n",
            "12/12 [==============================] - 210s 17s/step - loss: 0.1233 - binary_accuracy: 0.9545 - val_loss: 0.9721 - val_binary_accuracy: 0.7188\n",
            "Epoch 3/20\n",
            "12/12 [==============================] - 211s 18s/step - loss: 0.0871 - binary_accuracy: 0.9773 - val_loss: 0.9995 - val_binary_accuracy: 0.7812\n",
            "Epoch 4/20\n",
            "12/12 [==============================] - 213s 18s/step - loss: 0.0882 - binary_accuracy: 0.9659 - val_loss: 0.9597 - val_binary_accuracy: 0.6875\n",
            "Epoch 5/20\n",
            "12/12 [==============================] - 212s 18s/step - loss: 0.0602 - binary_accuracy: 1.0000 - val_loss: 0.8896 - val_binary_accuracy: 0.7500\n",
            "Epoch 6/20\n",
            "12/12 [==============================] - 216s 18s/step - loss: 0.0365 - binary_accuracy: 1.0000 - val_loss: 0.9619 - val_binary_accuracy: 0.8125\n",
            "Epoch 7/20\n",
            "12/12 [==============================] - 215s 18s/step - loss: 0.0385 - binary_accuracy: 0.9886 - val_loss: 0.6345 - val_binary_accuracy: 0.8125\n",
            "Epoch 8/20\n",
            "12/12 [==============================] - 212s 18s/step - loss: 0.0498 - binary_accuracy: 0.9886 - val_loss: 0.5093 - val_binary_accuracy: 0.8438\n",
            "Epoch 9/20\n",
            "12/12 [==============================] - 214s 18s/step - loss: 0.0267 - binary_accuracy: 1.0000 - val_loss: 0.7103 - val_binary_accuracy: 0.6875\n",
            "Epoch 10/20\n",
            "12/12 [==============================] - 213s 18s/step - loss: 0.0190 - binary_accuracy: 1.0000 - val_loss: 1.1604 - val_binary_accuracy: 0.7188\n",
            "Epoch 11/20\n",
            "12/12 [==============================] - 233s 20s/step - loss: 0.0324 - binary_accuracy: 0.9886 - val_loss: 1.2052 - val_binary_accuracy: 0.7188\n",
            "Epoch 12/20\n",
            "12/12 [==============================] - 215s 18s/step - loss: 0.0224 - binary_accuracy: 1.0000 - val_loss: 1.3895 - val_binary_accuracy: 0.6562\n",
            "Epoch 13/20\n",
            "12/12 [==============================] - 214s 18s/step - loss: 0.0105 - binary_accuracy: 1.0000 - val_loss: 1.8206 - val_binary_accuracy: 0.5625\n",
            "Epoch 14/20\n",
            "12/12 [==============================] - 212s 18s/step - loss: 0.0179 - binary_accuracy: 1.0000 - val_loss: 1.2299 - val_binary_accuracy: 0.6875\n",
            "Epoch 15/20\n",
            "12/12 [==============================] - 214s 18s/step - loss: 0.0156 - binary_accuracy: 1.0000 - val_loss: 0.5652 - val_binary_accuracy: 0.7812\n",
            "Epoch 16/20\n",
            "12/12 [==============================] - 216s 18s/step - loss: 0.0083 - binary_accuracy: 1.0000 - val_loss: 0.9976 - val_binary_accuracy: 0.7500\n",
            "Epoch 17/20\n",
            "12/12 [==============================] - 213s 18s/step - loss: 0.0201 - binary_accuracy: 0.9886 - val_loss: 0.5604 - val_binary_accuracy: 0.8125\n",
            "Epoch 18/20\n",
            "12/12 [==============================] - 215s 18s/step - loss: 0.0126 - binary_accuracy: 1.0000 - val_loss: 0.9724 - val_binary_accuracy: 0.6250\n",
            "Epoch 19/20\n",
            "12/12 [==============================] - 215s 18s/step - loss: 0.0092 - binary_accuracy: 1.0000 - val_loss: 1.1608 - val_binary_accuracy: 0.7188\n",
            "Epoch 20/20\n",
            "12/12 [==============================] - 215s 19s/step - loss: 0.0029 - binary_accuracy: 1.0000 - val_loss: 0.7649 - val_binary_accuracy: 0.9062\n"
          ]
        }
      ]
    },
    {
      "cell_type": "code",
      "source": [
        "# list all data in history\n",
        "print(history.history.keys())"
      ],
      "metadata": {
        "colab": {
          "base_uri": "https://localhost:8080/"
        },
        "id": "jXoHCzvlY779",
        "outputId": "f65b2037-e0f9-4eb8-e7b0-6e1bdb22d211"
      },
      "execution_count": null,
      "outputs": [
        {
          "output_type": "stream",
          "name": "stdout",
          "text": [
            "dict_keys(['loss', 'binary_accuracy', 'val_loss', 'val_binary_accuracy'])\n"
          ]
        }
      ]
    },
    {
      "cell_type": "code",
      "source": [
        "# summarize history for accuracy\n",
        "plt.plot(history.history['binary_accuracy'])\n",
        "plt.plot(history.history['val_binary_accuracy'])\n",
        "plt.title('model accuracy')\n",
        "plt.ylabel('accuracy')\n",
        "plt.xlabel('epoch')\n",
        "plt.legend(['train', 'test'], loc='upper left')\n",
        "plt.show()"
      ],
      "metadata": {
        "colab": {
          "base_uri": "https://localhost:8080/",
          "height": 295
        },
        "id": "hFXJyfdvY9sh",
        "outputId": "db2b0961-bfe4-45ce-8a1f-fef83ecd3f93"
      },
      "execution_count": null,
      "outputs": [
        {
          "output_type": "display_data",
          "data": {
            "text/plain": [
              "<Figure size 432x288 with 1 Axes>"
            ],
            "image/png": "[encoded data removed]"
          },
          "metadata": {
            "needs_background": "light"
          }
        }
      ]
    },
    {
      "cell_type": "code",
      "source": [
        "# summarize history for loss\n",
        "plt.plot(history.history['loss'])\n",
        "plt.plot(history.history['val_loss'])\n",
        "plt.title('model loss')\n",
        "plt.ylabel('loss')\n",
        "plt.xlabel('epoch')\n",
        "plt.legend(['train', 'test'], loc='upper left')\n",
        "plt.show()"
      ],
      "metadata": {
        "colab": {
          "base_uri": "https://localhost:8080/",
          "height": 295
        },
        "id": "19gWQIJ_Y-47",
        "outputId": "58cdd1d7-3bef-49fd-be78-7b932fda47b3"
      },
      "execution_count": null,
      "outputs": [
        {
          "output_type": "display_data",
          "data": {
            "text/plain": [
              "<Figure size 432x288 with 1 Axes>"
            ],
            "image/png": "[encoded data removed]"
          },
          "metadata": {
            "needs_background": "light"
          }
        }
      ]
    },
    {
      "cell_type": "code",
      "source": [
        ""
      ],
      "metadata": {
        "id": "Bp-O-ArhZAVN"
      },
      "execution_count": null,
      "outputs": []
    }
  ]
}