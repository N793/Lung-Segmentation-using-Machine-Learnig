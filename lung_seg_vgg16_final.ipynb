{
  "nbformat": 4,
  "nbformat_minor": 0,
  "metadata": {
    "colab": {
      "name": "lung seg vgg16-final",
      "provenance": [],
      "collapsed_sections": []
    },
    "kernelspec": {
      "name": "python3",
      "display_name": "Python 3"
    },
    "language_info": {
      "name": "python"
    },
    "accelerator": "GPU"
  },
  "cells": [
    {
      "cell_type": "code",
      "source": [
        "from google.colab import drive\n",
        "drive.mount('/content/drive')"
      ],
      "metadata": {
        "colab": {
          "base_uri": "https://localhost:8080/"
        },
        "id": "E5Ti9QnRmeHO",
        "outputId": "a17a99cd-bf76-4e1f-b419-dc186dd3ea12"
      },
      "execution_count": null,
      "outputs": [
        {
          "output_type": "stream",
          "name": "stdout",
          "text": [
            "Drive already mounted at /content/drive; to attempt to forcibly remount, call drive.mount(\"/content/drive\", force_remount=True).\n"
          ]
        }
      ]
    },
    {
      "cell_type": "code",
      "source": [
        "import os\n",
        "import shutil\n",
        "\n",
        "os.listdir(\"/content/drive/MyDrive/dataset/train\")"
      ],
      "metadata": {
        "colab": {
          "base_uri": "https://localhost:8080/"
        },
        "id": "n6I5JS1bmwsc",
        "outputId": "65cc5d5e-29f7-440b-ad36-0eeb4acee00c"
      },
      "execution_count": null,
      "outputs": [
        {
          "output_type": "execute_result",
          "data": {
            "text/plain": [
              "['1', '0']"
            ]
          },
          "metadata": {},
          "execution_count": 3
        }
      ]
    },
    {
      "cell_type": "code",
      "source": [
        "os.listdir(\"/content/drive/MyDrive/dataset/v\")"
      ],
      "metadata": {
        "colab": {
          "base_uri": "https://localhost:8080/"
        },
        "id": "beko-_Ydqw80",
        "outputId": "cd69c14c-370c-49e0-c465-dac463a53766"
      },
      "execution_count": null,
      "outputs": [
        {
          "output_type": "execute_result",
          "data": {
            "text/plain": [
              "['1', '0']"
            ]
          },
          "metadata": {},
          "execution_count": 4
        }
      ]
    },
    {
      "cell_type": "code",
      "source": [
        ""
      ],
      "metadata": {
        "id": "1oyLDslxq7nK"
      },
      "execution_count": null,
      "outputs": []
    },
    {
      "cell_type": "code",
      "source": [
        "import os\n",
        "import cv2\n",
        "import matplotlib.pyplot as plt\n",
        "from PIL import Image\n",
        "import tensorflow as tf\n",
        "from keras import backend as K\n",
        "from keras.models import load_model\n",
        "from keras.preprocessing.image import img_to_array\n",
        "from tensorflow.keras.optimizers import Adam, RMSprop\n",
        "from tensorflow.keras.callbacks import ReduceLROnPlateau\n",
        "from tensorflow.keras.preprocessing.image import ImageDataGenerator"
      ],
      "metadata": {
        "id": "7xb5b73-m55B"
      },
      "execution_count": null,
      "outputs": []
    },
    {
      "cell_type": "code",
      "source": [
        "IMG_SHAPE  = 224\n",
        "batch_size = 32"
      ],
      "metadata": {
        "id": "8ISRucUAm9FC"
      },
      "execution_count": null,
      "outputs": []
    },
    {
      "cell_type": "code",
      "source": [
        "from tensorflow import keras\n",
        "\n",
        "base_model = keras.applications.VGG16(\n",
        "    weights='imagenet',  # Load weights pre-trained on ImageNet.\n",
        "    input_shape=(224, 224, 3),\n",
        "    include_top=False)\n",
        "\n",
        "base_model.summary()\n",
        "\n",
        "base_model.trainable = False\n",
        "\n",
        "inputs = keras.Input(shape=(224, 224, 3))\n",
        "# Separately from setting trainable on the model, we set training to False \n",
        "x = base_model(inputs, training=False)\n",
        "x = keras.layers.GlobalAveragePooling2D()(x)\n",
        "# A Dense classifier with a single unit (binary classification)\n",
        "outputs = keras.layers.Dense(1)(x)\n",
        "model = keras.Model(inputs, outputs)\n",
        "\n",
        "model.summary()"
      ],
      "metadata": {
        "colab": {
          "base_uri": "https://localhost:8080/"
        },
        "id": "SW_R4rBmnBMf",
        "outputId": "dcc3336f-ea01-4dcf-ffda-f68b9e400155"
      },
      "execution_count": null,
      "outputs": [
        {
          "output_type": "stream",
          "name": "stdout",
          "text": [
            "Downloading data from https://storage.googleapis.com/tensorflow/keras-applications/vgg16/vgg16_weights_tf_dim_ordering_tf_kernels_notop.h5\n",
            "58892288/58889256 [==============================] - 0s 0us/step\n",
            "58900480/58889256 [==============================] - 0s 0us/step\n",
            "Model: \"vgg16\"\n",
            "_________________________________________________________________\n",
            " Layer (type)                Output Shape              Param #   \n",
            "=================================================================\n",
            " input_1 (InputLayer)        [(None, 224, 224, 3)]     0         \n",
            "                                                                 \n",
            " block1_conv1 (Conv2D)       (None, 224, 224, 64)      1792      \n",
            "                                                                 \n",
            " block1_conv2 (Conv2D)       (None, 224, 224, 64)      36928     \n",
            "                                                                 \n",
            " block1_pool (MaxPooling2D)  (None, 112, 112, 64)      0         \n",
            "                                                                 \n",
            " block2_conv1 (Conv2D)       (None, 112, 112, 128)     73856     \n",
            "                                                                 \n",
            " block2_conv2 (Conv2D)       (None, 112, 112, 128)     147584    \n",
            "                                                                 \n",
            " block2_pool (MaxPooling2D)  (None, 56, 56, 128)       0         \n",
            "                                                                 \n",
            " block3_conv1 (Conv2D)       (None, 56, 56, 256)       295168    \n",
            "                                                                 \n",
            " block3_conv2 (Conv2D)       (None, 56, 56, 256)       590080    \n",
            "                                                                 \n",
            " block3_conv3 (Conv2D)       (None, 56, 56, 256)       590080    \n",
            "                                                                 \n",
            " block3_pool (MaxPooling2D)  (None, 28, 28, 256)       0         \n",
            "                                                                 \n",
            " block4_conv1 (Conv2D)       (None, 28, 28, 512)       1180160   \n",
            "                                                                 \n",
            " block4_conv2 (Conv2D)       (None, 28, 28, 512)       2359808   \n",
            "                                                                 \n",
            " block4_conv3 (Conv2D)       (None, 28, 28, 512)       2359808   \n",
            "                                                                 \n",
            " block4_pool (MaxPooling2D)  (None, 14, 14, 512)       0         \n",
            "                                                                 \n",
            " block5_conv1 (Conv2D)       (None, 14, 14, 512)       2359808   \n",
            "                                                                 \n",
            " block5_conv2 (Conv2D)       (None, 14, 14, 512)       2359808   \n",
            "                                                                 \n",
            " block5_conv3 (Conv2D)       (None, 14, 14, 512)       2359808   \n",
            "                                                                 \n",
            " block5_pool (MaxPooling2D)  (None, 7, 7, 512)         0         \n",
            "                                                                 \n",
            "=================================================================\n",
            "Total params: 14,714,688\n",
            "Trainable params: 14,714,688\n",
            "Non-trainable params: 0\n",
            "_________________________________________________________________\n",
            "Model: \"model\"\n",
            "_________________________________________________________________\n",
            " Layer (type)                Output Shape              Param #   \n",
            "=================================================================\n",
            " input_2 (InputLayer)        [(None, 224, 224, 3)]     0         \n",
            "                                                                 \n",
            " vgg16 (Functional)          (None, 7, 7, 512)         14714688  \n",
            "                                                                 \n",
            " global_average_pooling2d (G  (None, 512)              0         \n",
            " lobalAveragePooling2D)                                          \n",
            "                                                                 \n",
            " dense (Dense)               (None, 1)                 513       \n",
            "                                                                 \n",
            "=================================================================\n",
            "Total params: 14,715,201\n",
            "Trainable params: 513\n",
            "Non-trainable params: 14,714,688\n",
            "_________________________________________________________________\n"
          ]
        }
      ]
    },
    {
      "cell_type": "code",
      "source": [
        "# Important to use binary crossentropy and binary accuracy as we now have a binary classification problem\n",
        "model.compile(loss=keras.losses.BinaryCrossentropy(from_logits=True), metrics=[keras.metrics.BinaryAccuracy()])\n",
        "\n",
        "\n",
        "from tensorflow.keras.preprocessing.image import ImageDataGenerator\n",
        "# create a data generator\n",
        "datagen = ImageDataGenerator(\n",
        "        samplewise_center=True,  # set each sample mean to 0\n",
        "        rotation_range=10,  # randomly rotate images in the range (degrees, 0 to 180)\n",
        "        zoom_range = 0.1, # Randomly zoom image \n",
        "        width_shift_range=0.1,  # randomly shift images horizontally (fraction of total width)\n",
        "        height_shift_range=0.1,  # randomly shift images vertically (fraction of total height)\n",
        "        horizontal_flip=True,  # randomly flip images\n",
        "        vertical_flip=False) # we don't expect Bo to be upside-down so we will not flip vertically\n",
        "\n",
        "# load and iterate training dataset\n",
        "train_it = datagen.flow_from_directory('/content/drive/MyDrive/dataset/train', \n",
        "                                       target_size=(224, 224), \n",
        "                                       color_mode='rgb', \n",
        "                                       class_mode='binary', \n",
        "                                       batch_size=8)\n",
        "# load and iterate validation dataset\n",
        "valid_it = datagen.flow_from_directory('/content/drive/MyDrive/dataset/v', \n",
        "                                      target_size=(224, 224), \n",
        "                                      color_mode='rgb', \n",
        "                                      class_mode='binary', \n",
        "                                      batch_size=8)\n",
        "\n",
        "h1= model.fit(train_it, steps_per_epoch=12, validation_data=valid_it, validation_steps=4, workers=10, epochs=20)"
      ],
      "metadata": {
        "colab": {
          "base_uri": "https://localhost:8080/"
        },
        "id": "mNL-9LySnIQE",
        "outputId": "64116b7b-d823-4e40-d6a8-cef7c5403cdb"
      },
      "execution_count": null,
      "outputs": [
        {
          "output_type": "stream",
          "name": "stdout",
          "text": [
            "Found 44 images belonging to 2 classes.\n",
            "Found 78 images belonging to 2 classes.\n",
            "Epoch 1/20\n",
            "12/12 [==============================] - 22s 683ms/step - loss: 0.9733 - binary_accuracy: 0.5795 - val_loss: 0.8772 - val_binary_accuracy: 0.7188\n",
            "Epoch 2/20\n",
            "12/12 [==============================] - 5s 342ms/step - loss: 0.7869 - binary_accuracy: 0.6932 - val_loss: 0.8253 - val_binary_accuracy: 0.5938\n",
            "Epoch 3/20\n",
            "12/12 [==============================] - 5s 399ms/step - loss: 0.5914 - binary_accuracy: 0.7614 - val_loss: 0.7339 - val_binary_accuracy: 0.5938\n",
            "Epoch 4/20\n",
            "12/12 [==============================] - 5s 370ms/step - loss: 0.5576 - binary_accuracy: 0.7614 - val_loss: 1.0886 - val_binary_accuracy: 0.5000\n",
            "Epoch 5/20\n",
            "12/12 [==============================] - 5s 360ms/step - loss: 0.4085 - binary_accuracy: 0.7841 - val_loss: 1.5045 - val_binary_accuracy: 0.5625\n",
            "Epoch 6/20\n",
            "12/12 [==============================] - 5s 356ms/step - loss: 0.3914 - binary_accuracy: 0.8295 - val_loss: 0.8023 - val_binary_accuracy: 0.6875\n",
            "Epoch 7/20\n",
            "12/12 [==============================] - 5s 348ms/step - loss: 0.4761 - binary_accuracy: 0.8182 - val_loss: 0.7948 - val_binary_accuracy: 0.5000\n",
            "Epoch 8/20\n",
            "12/12 [==============================] - 5s 354ms/step - loss: 0.2924 - binary_accuracy: 0.8750 - val_loss: 0.5651 - val_binary_accuracy: 0.7812\n",
            "Epoch 9/20\n",
            "12/12 [==============================] - 5s 360ms/step - loss: 0.2540 - binary_accuracy: 0.8750 - val_loss: 0.9531 - val_binary_accuracy: 0.6250\n",
            "Epoch 10/20\n",
            "12/12 [==============================] - 5s 369ms/step - loss: 0.2597 - binary_accuracy: 0.9091 - val_loss: 0.6604 - val_binary_accuracy: 0.7500\n",
            "Epoch 11/20\n",
            "12/12 [==============================] - 5s 385ms/step - loss: 0.2394 - binary_accuracy: 0.8977 - val_loss: 0.8584 - val_binary_accuracy: 0.7812\n",
            "Epoch 12/20\n",
            "12/12 [==============================] - 5s 353ms/step - loss: 0.2402 - binary_accuracy: 0.8750 - val_loss: 0.5909 - val_binary_accuracy: 0.6875\n",
            "12/12 [==============================] - 5s 350ms/step - loss: 0.2156 - binary_accuracy: 0.9091 - val_loss: 1.4117 - val_binary_accuracy: 0.6562\n",
            "Epoch 14/20\n",
            "12/12 [==============================] - 5s 360ms/step - loss: 0.2215 - binary_accuracy: 0.9205 - val_loss: 0.6655 - val_binary_accuracy: 0.6562\n",
            "Epoch 15/20\n",
            "12/12 [==============================] - 5s 358ms/step - loss: 0.1197 - binary_accuracy: 0.9318 - val_loss: 0.7746 - val_binary_accuracy: 0.6250\n",
            "Epoch 16/20\n",
            "12/12 [==============================] - 6s 498ms/step - loss: 0.1661 - binary_accuracy: 0.9545 - val_loss: 0.7682 - val_binary_accuracy: 0.6562\n",
            "Epoch 17/20\n",
            "12/12 [==============================] - 5s 337ms/step - loss: 0.1674 - binary_accuracy: 0.8977 - val_loss: 0.8158 - val_binary_accuracy: 0.6875\n",
            "Epoch 18/20\n",
            "12/12 [==============================] - 5s 343ms/step - loss: 0.1166 - binary_accuracy: 0.9545 - val_loss: 1.1177 - val_binary_accuracy: 0.5625\n",
            "Epoch 19/20\n",
            "12/12 [==============================] - 5s 386ms/step - loss: 0.1673 - binary_accuracy: 0.9432 - val_loss: 0.4888 - val_binary_accuracy: 0.7500\n",
            "Epoch 20/20\n",
            "12/12 [==============================] - 5s 340ms/step - loss: 0.0862 - binary_accuracy: 0.9659 - val_loss: 0.6376 - val_binary_accuracy: 0.7500\n"
          ]
        }
      ]
    },
    {
      "cell_type": "code",
      "source": [
        "# Unfreeze the base model\n",
        "base_model.trainable = True\n",
        "\n",
        "# It's important to recompile your model after you make any changes\n",
        "# to the `trainable` attribute of any inner layer, so that your changes\n",
        "# are taken into account\n",
        "model.compile(optimizer=keras.optimizers.RMSprop(learning_rate = .000001),  # Very low learning rate\n",
        "              loss=keras.losses.BinaryCrossentropy(from_logits=True),\n",
        "              metrics=[keras.metrics.BinaryAccuracy()])\n",
        "\n",
        "history = model.fit(train_it, steps_per_epoch=12, validation_data=valid_it, validation_steps=4, workers=10, epochs=20)"
      ],
      "metadata": {
        "colab": {
          "base_uri": "https://localhost:8080/"
        },
        "id": "fl7FKTqhoFgT",
        "outputId": "f0f8d618-cf73-4550-cacd-e6412e706781"
      },
      "execution_count": null,
      "outputs": [
        {
          "output_type": "stream",
          "name": "stdout",
          "text": [
            "Epoch 1/20\n",
            "12/12 [==============================] - 8s 458ms/step - loss: 0.0356 - binary_accuracy: 0.9886 - val_loss: 0.6296 - val_binary_accuracy: 0.8125\n",
            "Epoch 2/20\n",
            "12/12 [==============================] - 6s 425ms/step - loss: 0.0191 - binary_accuracy: 1.0000 - val_loss: 0.6896 - val_binary_accuracy: 0.8125\n",
            "Epoch 3/20\n",
            "12/12 [==============================] - 6s 437ms/step - loss: 0.0282 - binary_accuracy: 0.9886 - val_loss: 0.8609 - val_binary_accuracy: 0.7500\n",
            "Epoch 4/20\n",
            "12/12 [==============================] - 6s 429ms/step - loss: 0.0054 - binary_accuracy: 1.0000 - val_loss: 0.9258 - val_binary_accuracy: 0.7500\n",
            "Epoch 5/20\n",
            "12/12 [==============================] - 6s 447ms/step - loss: 0.0167 - binary_accuracy: 1.0000 - val_loss: 0.9438 - val_binary_accuracy: 0.7188\n",
            "Epoch 6/20\n",
            "12/12 [==============================] - 6s 436ms/step - loss: 0.0298 - binary_accuracy: 0.9886 - val_loss: 1.0532 - val_binary_accuracy: 0.6875\n",
            "Epoch 7/20\n",
            "12/12 [==============================] - 6s 468ms/step - loss: 0.0067 - binary_accuracy: 1.0000 - val_loss: 0.5789 - val_binary_accuracy: 0.7188\n",
            "Epoch 8/20\n",
            "12/12 [==============================] - 6s 438ms/step - loss: 0.0119 - binary_accuracy: 1.0000 - val_loss: 1.4280 - val_binary_accuracy: 0.7500\n",
            "Epoch 9/20\n",
            "12/12 [==============================] - 6s 431ms/step - loss: 0.0290 - binary_accuracy: 0.9886 - val_loss: 0.8906 - val_binary_accuracy: 0.7188\n",
            "Epoch 10/20\n",
            "12/12 [==============================] - 6s 441ms/step - loss: 0.0127 - binary_accuracy: 1.0000 - val_loss: 1.7094 - val_binary_accuracy: 0.5625\n",
            "Epoch 11/20\n",
            "12/12 [==============================] - 6s 426ms/step - loss: 0.0127 - binary_accuracy: 1.0000 - val_loss: 1.0312 - val_binary_accuracy: 0.7188\n",
            "Epoch 12/20\n",
            "12/12 [==============================] - 6s 423ms/step - loss: 0.0045 - binary_accuracy: 1.0000 - val_loss: 1.4545 - val_binary_accuracy: 0.5938\n",
            "Epoch 13/20\n",
            "12/12 [==============================] - 6s 429ms/step - loss: 0.0141 - binary_accuracy: 1.0000 - val_loss: 1.0201 - val_binary_accuracy: 0.6562\n",
            "Epoch 14/20\n",
            "12/12 [==============================] - 6s 464ms/step - loss: 0.0056 - binary_accuracy: 1.0000 - val_loss: 0.7360 - val_binary_accuracy: 0.7812\n",
            "Epoch 15/20\n",
            "12/12 [==============================] - 6s 420ms/step - loss: 0.0085 - binary_accuracy: 1.0000 - val_loss: 0.8622 - val_binary_accuracy: 0.8125\n",
            "Epoch 16/20\n",
            "12/12 [==============================] - 6s 442ms/step - loss: 0.0048 - binary_accuracy: 1.0000 - val_loss: 0.7775 - val_binary_accuracy: 0.7188\n",
            "Epoch 17/20\n",
            "12/12 [==============================] - 6s 427ms/step - loss: 0.0029 - binary_accuracy: 1.0000 - val_loss: 0.7295 - val_binary_accuracy: 0.7500\n",
            "Epoch 18/20\n",
            "12/12 [==============================] - 6s 422ms/step - loss: 0.0095 - binary_accuracy: 1.0000 - val_loss: 1.2987 - val_binary_accuracy: 0.6875\n",
            "Epoch 19/20\n",
            "12/12 [==============================] - 6s 434ms/step - loss: 0.0054 - binary_accuracy: 1.0000 - val_loss: 1.1798 - val_binary_accuracy: 0.7188\n",
            "Epoch 20/20\n",
            "12/12 [==============================] - 6s 470ms/step - loss: 0.0042 - binary_accuracy: 1.0000 - val_loss: 0.5659 - val_binary_accuracy: 0.8750\n"
          ]
        }
      ]
    },
    {
      "cell_type": "code",
      "source": [
        "# list all data in history\n",
        "print(history.history.keys())"
      ],
      "metadata": {
        "colab": {
          "base_uri": "https://localhost:8080/"
        },
        "id": "YA8Bc2rEop59",
        "outputId": "332db0ff-00c2-4b2a-ed03-26055f26890c"
      },
      "execution_count": null,
      "outputs": [
        {
          "output_type": "stream",
          "name": "stdout",
          "text": [
            "dict_keys(['loss', 'binary_accuracy', 'val_loss', 'val_binary_accuracy'])\n"
          ]
        }
      ]
    },
    {
      "cell_type": "code",
      "source": [
        "# summarize history for accuracy\n",
        "plt.plot(history.history['binary_accuracy'])\n",
        "plt.plot(history.history['val_binary_accuracy'])\n",
        "plt.title('model accuracy')\n",
        "plt.ylabel('accuracy')\n",
        "plt.xlabel('epoch')\n",
        "plt.legend(['train', 'test'], loc='upper left')\n",
        "plt.show()"
      ],
      "metadata": {
        "colab": {
          "base_uri": "https://localhost:8080/",
          "height": 295
        },
        "id": "IUpNynWpoq3X",
        "outputId": "40b5a83c-bc3a-4422-93b9-b03bb28cb674"
      },
      "execution_count": null,
      "outputs": [
        {
          "output_type": "display_data",
          "data": {
            "text/plain": [
              "<Figure size 432x288 with 1 Axes>"
            ],
            "image/png": "[encoded data removed]"
          },
          "metadata": {
            "needs_background": "light"
          }
        }
      ]
    },
    {
      "cell_type": "code",
      "source": [
        "# summarize history for loss\n",
        "plt.plot(history.history['loss'])\n",
        "plt.plot(history.history['val_loss'])\n",
        "plt.title('model loss')\n",
        "plt.ylabel('loss')\n",
        "plt.xlabel('epoch')\n",
        "plt.legend(['train', 'test'], loc='upper left')\n",
        "plt.show()"
      ],
      "metadata": {
        "colab": {
          "base_uri": "https://localhost:8080/",
          "height": 295
        },
        "id": "pj0uOHr2oujH",
        "outputId": "c092ebdc-6970-4582-f5ab-f871348b5746"
      },
      "execution_count": null,
      "outputs": [
        {
          "output_type": "display_data",
          "data": {
            "text/plain": [
              "<Figure size 432x288 with 1 Axes>"
            ],
            "image/png": "[encoded data removed]"
          },
          "metadata": {
            "needs_background": "light"
          }
        }
      ]
    }
  ]
}